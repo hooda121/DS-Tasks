{
 "cells": [
  {
   "cell_type": "code",
   "execution_count": 1,
   "id": "b5674bdf",
   "metadata": {},
   "outputs": [],
   "source": [
    "s = \"this is My First Python programming class and i am learNING python string and its function\""
   ]
  },
  {
   "cell_type": "code",
   "execution_count": 2,
   "id": "eda9f5a8",
   "metadata": {},
   "outputs": [],
   "source": [
    "#Try to extract data from index one to index 300 with a jump of 3"
   ]
  },
  {
   "cell_type": "code",
   "execution_count": 3,
   "id": "3b257029",
   "metadata": {},
   "outputs": [
    {
     "data": {
      "text/plain": [
       "'h   r tnrrmglsnimeNGyosi dtfco'"
      ]
     },
     "execution_count": 3,
     "metadata": {},
     "output_type": "execute_result"
    }
   ],
   "source": [
    "s[1:301:3]"
   ]
  },
  {
   "cell_type": "code",
   "execution_count": 4,
   "id": "92ee293d",
   "metadata": {},
   "outputs": [],
   "source": [
    "#Try to reverse a string without using reverse function "
   ]
  },
  {
   "cell_type": "code",
   "execution_count": 5,
   "id": "591d5387",
   "metadata": {},
   "outputs": [
    {
     "data": {
      "text/plain": [
       "'noitcnuf sti dna gnirts nohtyp GNINrael ma i dna ssalc gnimmargorp nohtyP tsriF yM si siht'"
      ]
     },
     "execution_count": 5,
     "metadata": {},
     "output_type": "execute_result"
    }
   ],
   "source": [
    "s[::-1]"
   ]
  },
  {
   "cell_type": "code",
   "execution_count": 6,
   "id": "407b89f3",
   "metadata": {},
   "outputs": [],
   "source": [
    "#Try to split a string after conversion of entire string in uppercase"
   ]
  },
  {
   "cell_type": "code",
   "execution_count": 8,
   "id": "89ad881f",
   "metadata": {},
   "outputs": [],
   "source": [
    "s=s.upper()"
   ]
  },
  {
   "cell_type": "code",
   "execution_count": 9,
   "id": "01ad9bbe",
   "metadata": {},
   "outputs": [
    {
     "data": {
      "text/plain": [
       "['THIS IS MY FIRST ',\n",
       " ' PROGRAMMING CLASS AND I AM LEARNING ',\n",
       " ' STRING AND ITS FUNCTION']"
      ]
     },
     "execution_count": 9,
     "metadata": {},
     "output_type": "execute_result"
    }
   ],
   "source": [
    "s.split(\"PYTHON\")"
   ]
  },
  {
   "cell_type": "code",
   "execution_count": 10,
   "id": "6745e41b",
   "metadata": {},
   "outputs": [],
   "source": [
    "#try to convert the whole string into lower case "
   ]
  },
  {
   "cell_type": "code",
   "execution_count": 11,
   "id": "c3134915",
   "metadata": {},
   "outputs": [
    {
     "data": {
      "text/plain": [
       "'this is my first python programming class and i am learning python string and its function'"
      ]
     },
     "execution_count": 11,
     "metadata": {},
     "output_type": "execute_result"
    }
   ],
   "source": [
    "s.lower()"
   ]
  },
  {
   "cell_type": "code",
   "execution_count": 12,
   "id": "1a4353f7",
   "metadata": {},
   "outputs": [],
   "source": [
    "#Try to capitalize the whole string "
   ]
  },
  {
   "cell_type": "code",
   "execution_count": 13,
   "id": "bba5513b",
   "metadata": {},
   "outputs": [
    {
     "data": {
      "text/plain": [
       "'This is my first python programming class and i am learning python string and its function'"
      ]
     },
     "execution_count": 13,
     "metadata": {},
     "output_type": "execute_result"
    }
   ],
   "source": [
    "s.capitalize()"
   ]
  },
  {
   "cell_type": "code",
   "execution_count": 14,
   "id": "7c3eeb25",
   "metadata": {},
   "outputs": [],
   "source": [
    "#Write a diference between isalnum() and isalpha()"
   ]
  },
  {
   "cell_type": "code",
   "execution_count": 15,
   "id": "caf9f735",
   "metadata": {},
   "outputs": [],
   "source": [
    "#Python isalnum() only returns true if a string contains alphanumeric characters, without symbols & the Python isalpha() method returns true if a string only contains letters. "
   ]
  },
  {
   "cell_type": "code",
   "execution_count": 16,
   "id": "6ddb948c",
   "metadata": {},
   "outputs": [],
   "source": [
    "#Try to give an example of expand tab"
   ]
  },
  {
   "cell_type": "code",
   "execution_count": 17,
   "id": "7aa31970",
   "metadata": {},
   "outputs": [],
   "source": [
    "a = \"hello\\thow\\tare\\tyou\""
   ]
  },
  {
   "cell_type": "code",
   "execution_count": 18,
   "id": "f3d8195e",
   "metadata": {},
   "outputs": [
    {
     "data": {
      "text/plain": [
       "'hello   how     are     you'"
      ]
     },
     "execution_count": 18,
     "metadata": {},
     "output_type": "execute_result"
    }
   ],
   "source": [
    "a.expandtabs()"
   ]
  },
  {
   "cell_type": "code",
   "execution_count": 19,
   "id": "9a5e96ab",
   "metadata": {},
   "outputs": [],
   "source": [
    "#Give an example of strip , lstrip and rstrip"
   ]
  },
  {
   "cell_type": "code",
   "execution_count": 20,
   "id": "4d6d4532",
   "metadata": {},
   "outputs": [],
   "source": [
    "a =\"  Hello how are you   \""
   ]
  },
  {
   "cell_type": "code",
   "execution_count": 21,
   "id": "a51f0ed0",
   "metadata": {},
   "outputs": [
    {
     "data": {
      "text/plain": [
       "'Hello how are you'"
      ]
     },
     "execution_count": 21,
     "metadata": {},
     "output_type": "execute_result"
    }
   ],
   "source": [
    "a.strip()"
   ]
  },
  {
   "cell_type": "code",
   "execution_count": 22,
   "id": "b1e45e65",
   "metadata": {},
   "outputs": [
    {
     "data": {
      "text/plain": [
       "'Hello how are you   '"
      ]
     },
     "execution_count": 22,
     "metadata": {},
     "output_type": "execute_result"
    }
   ],
   "source": [
    "a.lstrip()"
   ]
  },
  {
   "cell_type": "code",
   "execution_count": 23,
   "id": "76a6dfa2",
   "metadata": {},
   "outputs": [
    {
     "data": {
      "text/plain": [
       "'  Hello how are you'"
      ]
     },
     "execution_count": 23,
     "metadata": {},
     "output_type": "execute_result"
    }
   ],
   "source": [
    "a.rstrip()"
   ]
  },
  {
   "cell_type": "code",
   "execution_count": 24,
   "id": "16c75b21",
   "metadata": {},
   "outputs": [],
   "source": [
    "#Replace a string charecter by another charector by taking your own example"
   ]
  },
  {
   "cell_type": "code",
   "execution_count": 25,
   "id": "427df9b8",
   "metadata": {},
   "outputs": [],
   "source": [
    "a = \"iNeuron\""
   ]
  },
  {
   "cell_type": "code",
   "execution_count": 29,
   "id": "b1401429",
   "metadata": {},
   "outputs": [
    {
     "data": {
      "text/plain": [
       "'iNewton'"
      ]
     },
     "execution_count": 29,
     "metadata": {},
     "output_type": "execute_result"
    }
   ],
   "source": [
    "a.replace(\"ur\",\"wt\")"
   ]
  },
  {
   "cell_type": "code",
   "execution_count": 27,
   "id": "eaed377c",
   "metadata": {},
   "outputs": [],
   "source": [
    "# Try  to give a defination of string center function with and exmple "
   ]
  },
  {
   "cell_type": "code",
   "execution_count": 30,
   "id": "856d4d78",
   "metadata": {},
   "outputs": [
    {
     "data": {
      "text/plain": [
       "'xxxxxxiNeuronxxxxxxx'"
      ]
     },
     "execution_count": 30,
     "metadata": {},
     "output_type": "execute_result"
    }
   ],
   "source": [
    "a.center(20,'x')"
   ]
  },
  {
   "cell_type": "code",
   "execution_count": 31,
   "id": "86df4d38",
   "metadata": {},
   "outputs": [],
   "source": [
    "#Write your own definition of compiler and interpretor without copy paste form internet in your own language"
   ]
  },
  {
   "cell_type": "code",
   "execution_count": 32,
   "id": "e542b8bf",
   "metadata": {},
   "outputs": [],
   "source": [
    "#Compiler is commpilation of code to ensure there is no error or compilcation related issue. Interpreter is converting code to machine understandable code."
   ]
  },
  {
   "cell_type": "code",
   "execution_count": 33,
   "id": "643fd0f2",
   "metadata": {},
   "outputs": [],
   "source": [
    "#Python is a interpreted of compiled language give a clear ans with your understanding"
   ]
  },
  {
   "cell_type": "code",
   "execution_count": 34,
   "id": "21e38472",
   "metadata": {},
   "outputs": [],
   "source": [
    "#Interpreted"
   ]
  },
  {
   "cell_type": "code",
   "execution_count": 35,
   "id": "8c754fb7",
   "metadata": {},
   "outputs": [],
   "source": [
    "#Try to write a usecase of python with your understanding ."
   ]
  },
  {
   "cell_type": "code",
   "execution_count": 36,
   "id": "3d857d33",
   "metadata": {},
   "outputs": [],
   "source": [
    "#Review of users visiting a particular website on daily basis. Then understanding the application load requirements for future."
   ]
  },
  {
   "cell_type": "code",
   "execution_count": null,
   "id": "e9c11678",
   "metadata": {},
   "outputs": [],
   "source": []
  }
 ],
 "metadata": {
  "kernelspec": {
   "display_name": "Python 3 (ipykernel)",
   "language": "python",
   "name": "python3"
  },
  "language_info": {
   "codemirror_mode": {
    "name": "ipython",
    "version": 3
   },
   "file_extension": ".py",
   "mimetype": "text/x-python",
   "name": "python",
   "nbconvert_exporter": "python",
   "pygments_lexer": "ipython3",
   "version": "3.9.7"
  }
 },
 "nbformat": 4,
 "nbformat_minor": 5
}
